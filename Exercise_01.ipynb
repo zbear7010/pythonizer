{
 "cells": [
  {
   "cell_type": "code",
   "execution_count": 1,
   "metadata": {},
   "outputs": [
    {
     "name": "stdout",
     "output_type": "stream",
     "text": [
      "443322 \n",
      "Россия, \n",
      "г. Москва, \n",
      "Ленина пр-т, \n",
      "д. 7, \n",
      "кв. 1, \n",
      "Иванову \n",
      "Ивану \n",
      "Ивановичу.\n"
     ]
    }
   ],
   "source": [
    "'''\n",
    "Упражнение 1: Почтовый адрес (9 строк)\n",
    "\n",
    "Напишите несколько строк кода, выводящих на экран ваше имя и почтовый адрес. \n",
    "Адрес напишите в формате, принятом в вашей стране. \n",
    "Никакого ввода от пользователя ваша первая программа принимать не будет, \n",
    "только вывод на экран и больше ничего.\n",
    "'''\n",
    "\n",
    "##\n",
    "# Так будет в максимальное количество строк — 9.\n",
    "#\n",
    "# Различные варианты данного действия с более\n",
    "# краткими инструкциями, а также более \"красивыми\"\n",
    "# ищи в \"Расширенных заданиях\" Exercise_*(lvl_*).[ipynb,py],\n",
    "# например Exercise_01(lvl_03).ipynb\n",
    "#\n",
    "print(\"443322 \")\n",
    "print(\"Россия, \")\n",
    "print(\"г. Москва, \")\n",
    "print(\"Ленина пр-т, \")\n",
    "print(\"д. 7, \")\n",
    "print(\"кв. 1, \")\n",
    "print(\"Иванову \")\n",
    "print(\"Ивану \")\n",
    "print(\"Ивановичу.\")"
   ]
  },
  {
   "cell_type": "code",
   "execution_count": null,
   "metadata": {},
   "outputs": [],
   "source": []
  }
 ],
 "metadata": {
  "kernelspec": {
   "display_name": "Python 3.10.8 64-bit",
   "language": "python",
   "name": "python3"
  },
  "language_info": {
   "codemirror_mode": {
    "name": "ipython",
    "version": 3
   },
   "file_extension": ".py",
   "mimetype": "text/x-python",
   "name": "python",
   "nbconvert_exporter": "python",
   "pygments_lexer": "ipython3",
   "version": "3.10.8"
  },
  "vscode": {
   "interpreter": {
    "hash": "beedbe2faf2f7048d727558d0bc3221e7eba2a0b921cac4d4771b2feb8f74b30"
   }
  }
 },
 "nbformat": 4,
 "nbformat_minor": 4
}
