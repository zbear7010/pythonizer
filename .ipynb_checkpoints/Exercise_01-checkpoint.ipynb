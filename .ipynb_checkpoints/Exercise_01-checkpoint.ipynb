{
 "cells": [
  {
   "cell_type": "code",
   "execution_count": 1,
   "metadata": {},
   "outputs": [
    {
     "name": "stdout",
     "output_type": "stream",
     "text": [
      "443322 \n",
      "Россия, \n",
      "г. Москва, \n",
      "Ленина пр-т, \n",
      "д. 7, \n",
      "кв. 1, \n",
      "Иванову \n",
      "Ивану \n",
      "Ивановичу.\n"
     ]
    }
   ],
   "source": [
    "'''\n",
    "\n",
    "Упражнение 1: Почтовый Индекс (9 строк)\n",
    "\n",
    "Напишите несколько строк кода, выводящих на экран ваше имя и почтовый адрес. \n",
    "Адрес напишите в формате, принятом в вашей стране. \n",
    "Никакого ввода от пользователя ваша первая программа принимать не будет, только вывод на экран и больше ничего.\n",
    "\n",
    "'''\n",
    "\n",
    "#Наверное в 9 строк это так.\n",
    "print(\"443322 \")\n",
    "print(\"Россия, \")\n",
    "print(\"г. Москва, \")\n",
    "print(\"Ленина пр-т, \")\n",
    "print(\"д. 7, \")\n",
    "print(\"кв. 1, \")\n",
    "print(\"Иванову \")\n",
    "print(\"Ивану \")\n",
    "print(\"Ивановичу.\")"
   ]
  },
  {
   "cell_type": "code",
   "execution_count": null,
   "metadata": {},
   "outputs": [],
   "source": []
  }
 ],
 "metadata": {
  "kernelspec": {
   "display_name": "Python 3",
   "language": "python",
   "name": "python3"
  },
  "language_info": {
   "codemirror_mode": {
    "name": "ipython",
    "version": 3
   },
   "file_extension": ".py",
   "mimetype": "text/x-python",
   "name": "python",
   "nbconvert_exporter": "python",
   "pygments_lexer": "ipython3",
   "version": "3.8.5"
  }
 },
 "nbformat": 4,
 "nbformat_minor": 4
}
