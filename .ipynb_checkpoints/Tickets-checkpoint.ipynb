{
 "cells": [
  {
   "cell_type": "code",
   "execution_count": null,
   "metadata": {},
   "outputs": [],
   "source": [
    "# Ticket 001.\n",
    "\n",
    "'''\n",
    "\n",
    "Форматирование строк.\n",
    "Повторить правила комментирования и документирования. \n",
    "\n",
    "'''\n",
    "\n",
    "\n",
    "# Ticket 002.\n",
    "\n",
    "'''\n",
    "\n",
    "Структура программы (def main(): и прочее).\n",
    "Несколько задач из задачника. \n",
    "Удаление коммитов из удаленного репозитория (+Ветвление). \n",
    "Работа с файлами в Python. \n",
    "Классы.\n",
    "\n",
    "'''"
   ]
  }
 ],
 "metadata": {
  "kernelspec": {
   "display_name": "Python 3",
   "language": "python",
   "name": "python3"
  },
  "language_info": {
   "codemirror_mode": {
    "name": "ipython",
    "version": 3
   },
   "file_extension": ".py",
   "mimetype": "text/x-python",
   "name": "python",
   "nbconvert_exporter": "python",
   "pygments_lexer": "ipython3",
   "version": "3.8.5"
  }
 },
 "nbformat": 4,
 "nbformat_minor": 4
}
