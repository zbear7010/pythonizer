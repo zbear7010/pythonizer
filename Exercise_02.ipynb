{
 "cells": [
  {
   "cell_type": "code",
   "execution_count": null,
   "metadata": {},
   "outputs": [],
   "source": [
    "'''\n",
    "Упражнение 2: Приветствие (9 строк)\n",
    "\n",
    "Напишите программу, запрашивающую у пользователя его имя. \n",
    "В ответ на ввод на экране должно появиться приветствие с обращением по имени, введенному с клавиатуры ранее.\n",
    "\n",
    "'''\n",
    "name "
   ]
  }
 ],
 "metadata": {
  "kernelspec": {
   "display_name": "Python 3",
   "language": "python",
   "name": "python3"
  },
  "language_info": {
   "codemirror_mode": {
    "name": "ipython",
    "version": 3
   },
   "file_extension": ".py",
   "mimetype": "text/x-python",
   "name": "python",
   "nbconvert_exporter": "python",
   "pygments_lexer": "ipython3",
   "version": "3.8.5"
  }
 },
 "nbformat": 4,
 "nbformat_minor": 4
}
