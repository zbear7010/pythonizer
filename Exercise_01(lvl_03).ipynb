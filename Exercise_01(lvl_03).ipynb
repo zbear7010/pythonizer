{
 "cells": [
  {
   "cell_type": "code",
   "execution_count": 3,
   "metadata": {},
   "outputs": [
    {
     "ename": "SyntaxError",
     "evalue": "invalid syntax (<ipython-input-3-768aaddb01c8>, line 25)",
     "output_type": "error",
     "traceback": [
      "\u001b[1;36m  File \u001b[1;32m\"<ipython-input-3-768aaddb01c8>\"\u001b[1;36m, line \u001b[1;32m25\u001b[0m\n\u001b[1;33m    match abc:\u001b[0m\n\u001b[1;37m          ^\u001b[0m\n\u001b[1;31mSyntaxError\u001b[0m\u001b[1;31m:\u001b[0m invalid syntax\n"
     ]
    }
   ],
   "source": [
    "''''\n",
    "\n",
    "Упражнение #01. Ступень сложности #03\n",
    "\n",
    "1. Возможно я бы мог попробовать реализовать ввод в одну строку, разбор строки в функции по элементам словаря.\n",
    "2. Возможно какая-то иммитация диалого. Не уверен, что потяну, и что оно надо, но уже пробую.\n",
    "3. Пробежался по инету, можно словарь создать по парам городов типа \"Самара-Москва\" еще несколько. Задать километраж между парами.\n",
    "4. В новый словарь вносится время отправки. Формула выдает время получения.\n",
    "5. затем оповещать, что по таким-то парам городов доступен расчет времени доставки.\n",
    "6. Никогда еще не писал ничего сложнее. Даже не знаю как начать. Много гуглить, ой много...\n",
    "\n",
    "'''\n",
    "\n",
    "'''\n",
    "import time\n",
    "\n",
    "def entry_in_one_string():\n",
    "\n",
    "    pass\n",
    "    \n",
    "    return address_dict\n",
    "'''\n",
    "\n",
    "def distance_towns(abc):\n",
    "    match abc:\n",
    "        case \"1\": return \"Moscow\"\n",
    "        case \"2\": return \"Samara\"\n",
    "        case _: return \"N-City\"\n",
    "\n",
    "print(distance_towns(\"1\"))"
   ]
  },
  {
   "cell_type": "code",
   "execution_count": null,
   "metadata": {
    "collapsed": true
   },
   "outputs": [],
   "source": []
  }
 ],
 "metadata": {
  "kernelspec": {
   "display_name": "Python 3",
   "language": "python",
   "name": "python3"
  },
  "language_info": {
   "codemirror_mode": {
    "name": "ipython",
    "version": 3
   },
   "file_extension": ".py",
   "mimetype": "text/x-python",
   "name": "python",
   "nbconvert_exporter": "python",
   "pygments_lexer": "ipython3",
   "version": "3.8.5"
  }
 },
 "nbformat": 4,
 "nbformat_minor": 4
}
