{
 "cells": [
  {
   "cell_type": "code",
   "execution_count": 8,
   "metadata": {},
   "outputs": [
    {
     "name": "stdout",
     "output_type": "stream",
     "text": [
      "\n",
      "Куда: 123456, г. Москва, Ленина пр-т, 7, кв. 1.\n",
      "Кому: Иванов Иван Иванович.\n",
      "\n",
      "Куда: 789123, г. Караганда, Нурсултана Назарбаева пр-т, 707, кв. 1.\n",
      "Кому: Иванов Касым Иванович.\n"
     ]
    },
    {
     "data": {
      "text/plain": [
       "'Функция для форматирования переменных с различными элементами адреса в одну строку. Визуально в две строки.\\n    \\n    Есть значения по умолчанию, то есть если нужно вспомнить порядок заполнения, нужно вызвать adress_for_correspondence\\n    \\n    '"
      ]
     },
     "execution_count": 8,
     "metadata": {},
     "output_type": "execute_result"
    }
   ],
   "source": [
    "'''\n",
    "\n",
    "Упражнение #01. Level #02\n",
    "\n",
    "'''\n",
    "\n",
    "# Функциональный подход\n",
    "def adress_for_correspondence(index = 123456, city = \"Москва\", street = \"Ленина пр-т\", house = 7, flat = \"кв. 1\", \n",
    "             firstname = \"Иван\", lastname = \"Иванов\", patronymic = \"Иванович\" ):\n",
    "\n",
    "    '''Функция для форматирования переменных с различными элементами адреса в одну строку. Визуально в две строки.\n",
    "    \n",
    "    Есть значения по умолчанию, то есть если нужно вспомнить порядок заполнения, нужно вызвать adress_for_correspondence\n",
    "    \n",
    "    '''\n",
    "    print(\"\\nКуда: %d, г. %s, %s, %s, %s.\\nКому: %s %s %s.\" % \n",
    "      (index, city, street, house, flat, lastname, firstname, patronymic)\n",
    "     )\n",
    "\n",
    "\n",
    "# Печать значений по умолчанию в качестве образца порядка заполнения.\n",
    "adress_for_correspondence()\n",
    "\n",
    "# Подстановка необходимых значений позиционно и через указание переменных (должны стоять в конце).\n",
    "adress_for_correspondence(\n",
    "    789123, \"Караганда\", \"Нурсултана Назарбаева пр-т\", house=\"707\", firstname=\"Касым\")\n",
    "\n",
    "# Вывод документации функции.\n",
    "adress_for_correspondence.__doc__\n"
   ]
  }
 ],
 "metadata": {
  "kernelspec": {
   "display_name": "Python 3.10.8 64-bit",
   "language": "python",
   "name": "python3"
  },
  "language_info": {
   "codemirror_mode": {
    "name": "ipython",
    "version": 3
   },
   "file_extension": ".py",
   "mimetype": "text/x-python",
   "name": "python",
   "nbconvert_exporter": "python",
   "pygments_lexer": "ipython3",
   "version": "3.10.8"
  },
  "vscode": {
   "interpreter": {
    "hash": "beedbe2faf2f7048d727558d0bc3221e7eba2a0b921cac4d4771b2feb8f74b30"
   }
  }
 },
 "nbformat": 4,
 "nbformat_minor": 4
}
